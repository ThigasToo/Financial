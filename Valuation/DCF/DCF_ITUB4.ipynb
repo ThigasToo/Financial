{
  "nbformat": 4,
  "nbformat_minor": 0,
  "metadata": {
    "colab": {
      "provenance": []
    },
    "kernelspec": {
      "name": "python3",
      "display_name": "Python 3"
    },
    "language_info": {
      "name": "python"
    }
  },
  "cells": [
    {
      "cell_type": "code",
      "execution_count": 2,
      "metadata": {
        "id": "BmWr-SmL9kq-"
      },
      "outputs": [],
      "source": [
        "import pandas as pd\n",
        "import numpy as np"
      ]
    },
    {
      "cell_type": "code",
      "source": [
        "# 1. DADOS DE ENTRADA\n",
        "# As datas futuras (previsões) são as mais importantes para o DCF.\n",
        "\n",
        "dados = pd.read_csv('Itau IRFS.csv', sep=';', encoding='latin1')\n",
        "\n",
        "dados.drop(columns=['31/12/2028'], inplace=True)\n",
        "dados.drop(columns=['ITUB4'], inplace=True)"
      ],
      "metadata": {
        "id": "Ev4hjURELHEp"
      },
      "execution_count": 34,
      "outputs": []
    },
    {
      "cell_type": "code",
      "source": [
        "dados.head()"
      ],
      "metadata": {
        "colab": {
          "base_uri": "https://localhost:8080/",
          "height": 224
        },
        "id": "VSSyfN5qMRMV",
        "outputId": "4efebc35-d6be-4197-a124-9c83271bf348"
      },
      "execution_count": 35,
      "outputs": [
        {
          "output_type": "execute_result",
          "data": {
            "text/plain": [
              "   31/12/2022  31/03/2023  30/06/2023  30/09/2023  31/12/2023  31/03/2024  \\\n",
              "0       7.292       7.355       8.619       8.358       8.773       9.811   \n",
              "1     167.717     171.550     178.853     183.636     190.177     185.547   \n",
              "2       3.833       7.303       4.783       6.541      -4.630       8.202   \n",
              "3       3.459      52.000       3.836       1.817      13.403       1.609   \n",
              "\n",
              "   30/06/2024  30/09/2024  31/12/2024  31/03/2025  ...  30/06/2026  \\\n",
              "0      10.073      10.366      10.835      10.507  ...   13.276.00   \n",
              "1     193.749     201.365     211.090     201.140  ...  227.950.33   \n",
              "2       7.616       9.725      -9.950       7.407  ...       5.127   \n",
              "3       2.457     641.000      20.785       3.100  ...       8.149   \n",
              "\n",
              "   30/09/2026  31/12/2026  31/03/2027  30/06/2027  30/09/2027  31/12/2027  \\\n",
              "0   13.872.09   14.494.95   15.145.77   15.825.81   16.536.39   17.278.88   \n",
              "1  233.076.93  238.318.83  243.678.62  249.158.96  254.762.54  260.492.15   \n",
              "2       5.242       5.360       5.480       5.604       5.730       5.858   \n",
              "3       8.630       9.135       9.665      10.222      10.807      11.420   \n",
              "\n",
              "   31/03/2028  30/06/2028  30/09/2028  \n",
              "0   18.054.70   18.865.35   19.712.41  \n",
              "1  266.350.62  272.340.84  278.465.79  \n",
              "2       5.990       6.125       6.263  \n",
              "3      12.064      12.740      13.450  \n",
              "\n",
              "[4 rows x 24 columns]"
            ],
            "text/html": [
              "\n",
              "  <div id=\"df-b280f273-cc04-41a1-96ac-752d731c353b\" class=\"colab-df-container\">\n",
              "    <div>\n",
              "<style scoped>\n",
              "    .dataframe tbody tr th:only-of-type {\n",
              "        vertical-align: middle;\n",
              "    }\n",
              "\n",
              "    .dataframe tbody tr th {\n",
              "        vertical-align: top;\n",
              "    }\n",
              "\n",
              "    .dataframe thead th {\n",
              "        text-align: right;\n",
              "    }\n",
              "</style>\n",
              "<table border=\"1\" class=\"dataframe\">\n",
              "  <thead>\n",
              "    <tr style=\"text-align: right;\">\n",
              "      <th></th>\n",
              "      <th>31/12/2022</th>\n",
              "      <th>31/03/2023</th>\n",
              "      <th>30/06/2023</th>\n",
              "      <th>30/09/2023</th>\n",
              "      <th>31/12/2023</th>\n",
              "      <th>31/03/2024</th>\n",
              "      <th>30/06/2024</th>\n",
              "      <th>30/09/2024</th>\n",
              "      <th>31/12/2024</th>\n",
              "      <th>31/03/2025</th>\n",
              "      <th>...</th>\n",
              "      <th>30/06/2026</th>\n",
              "      <th>30/09/2026</th>\n",
              "      <th>31/12/2026</th>\n",
              "      <th>31/03/2027</th>\n",
              "      <th>30/06/2027</th>\n",
              "      <th>30/09/2027</th>\n",
              "      <th>31/12/2027</th>\n",
              "      <th>31/03/2028</th>\n",
              "      <th>30/06/2028</th>\n",
              "      <th>30/09/2028</th>\n",
              "    </tr>\n",
              "  </thead>\n",
              "  <tbody>\n",
              "    <tr>\n",
              "      <th>0</th>\n",
              "      <td>7.292</td>\n",
              "      <td>7.355</td>\n",
              "      <td>8.619</td>\n",
              "      <td>8.358</td>\n",
              "      <td>8.773</td>\n",
              "      <td>9.811</td>\n",
              "      <td>10.073</td>\n",
              "      <td>10.366</td>\n",
              "      <td>10.835</td>\n",
              "      <td>10.507</td>\n",
              "      <td>...</td>\n",
              "      <td>13.276.00</td>\n",
              "      <td>13.872.09</td>\n",
              "      <td>14.494.95</td>\n",
              "      <td>15.145.77</td>\n",
              "      <td>15.825.81</td>\n",
              "      <td>16.536.39</td>\n",
              "      <td>17.278.88</td>\n",
              "      <td>18.054.70</td>\n",
              "      <td>18.865.35</td>\n",
              "      <td>19.712.41</td>\n",
              "    </tr>\n",
              "    <tr>\n",
              "      <th>1</th>\n",
              "      <td>167.717</td>\n",
              "      <td>171.550</td>\n",
              "      <td>178.853</td>\n",
              "      <td>183.636</td>\n",
              "      <td>190.177</td>\n",
              "      <td>185.547</td>\n",
              "      <td>193.749</td>\n",
              "      <td>201.365</td>\n",
              "      <td>211.090</td>\n",
              "      <td>201.140</td>\n",
              "      <td>...</td>\n",
              "      <td>227.950.33</td>\n",
              "      <td>233.076.93</td>\n",
              "      <td>238.318.83</td>\n",
              "      <td>243.678.62</td>\n",
              "      <td>249.158.96</td>\n",
              "      <td>254.762.54</td>\n",
              "      <td>260.492.15</td>\n",
              "      <td>266.350.62</td>\n",
              "      <td>272.340.84</td>\n",
              "      <td>278.465.79</td>\n",
              "    </tr>\n",
              "    <tr>\n",
              "      <th>2</th>\n",
              "      <td>3.833</td>\n",
              "      <td>7.303</td>\n",
              "      <td>4.783</td>\n",
              "      <td>6.541</td>\n",
              "      <td>-4.630</td>\n",
              "      <td>8.202</td>\n",
              "      <td>7.616</td>\n",
              "      <td>9.725</td>\n",
              "      <td>-9.950</td>\n",
              "      <td>7.407</td>\n",
              "      <td>...</td>\n",
              "      <td>5.127</td>\n",
              "      <td>5.242</td>\n",
              "      <td>5.360</td>\n",
              "      <td>5.480</td>\n",
              "      <td>5.604</td>\n",
              "      <td>5.730</td>\n",
              "      <td>5.858</td>\n",
              "      <td>5.990</td>\n",
              "      <td>6.125</td>\n",
              "      <td>6.263</td>\n",
              "    </tr>\n",
              "    <tr>\n",
              "      <th>3</th>\n",
              "      <td>3.459</td>\n",
              "      <td>52.000</td>\n",
              "      <td>3.836</td>\n",
              "      <td>1.817</td>\n",
              "      <td>13.403</td>\n",
              "      <td>1.609</td>\n",
              "      <td>2.457</td>\n",
              "      <td>641.000</td>\n",
              "      <td>20.785</td>\n",
              "      <td>3.100</td>\n",
              "      <td>...</td>\n",
              "      <td>8.149</td>\n",
              "      <td>8.630</td>\n",
              "      <td>9.135</td>\n",
              "      <td>9.665</td>\n",
              "      <td>10.222</td>\n",
              "      <td>10.807</td>\n",
              "      <td>11.420</td>\n",
              "      <td>12.064</td>\n",
              "      <td>12.740</td>\n",
              "      <td>13.450</td>\n",
              "    </tr>\n",
              "  </tbody>\n",
              "</table>\n",
              "<p>4 rows × 24 columns</p>\n",
              "</div>\n",
              "    <div class=\"colab-df-buttons\">\n",
              "\n",
              "  <div class=\"colab-df-container\">\n",
              "    <button class=\"colab-df-convert\" onclick=\"convertToInteractive('df-b280f273-cc04-41a1-96ac-752d731c353b')\"\n",
              "            title=\"Convert this dataframe to an interactive table.\"\n",
              "            style=\"display:none;\">\n",
              "\n",
              "  <svg xmlns=\"http://www.w3.org/2000/svg\" height=\"24px\" viewBox=\"0 -960 960 960\">\n",
              "    <path d=\"M120-120v-720h720v720H120Zm60-500h600v-160H180v160Zm220 220h160v-160H400v160Zm0 220h160v-160H400v160ZM180-400h160v-160H180v160Zm440 0h160v-160H620v160ZM180-180h160v-160H180v160Zm440 0h160v-160H620v160Z\"/>\n",
              "  </svg>\n",
              "    </button>\n",
              "\n",
              "  <style>\n",
              "    .colab-df-container {\n",
              "      display:flex;\n",
              "      gap: 12px;\n",
              "    }\n",
              "\n",
              "    .colab-df-convert {\n",
              "      background-color: #E8F0FE;\n",
              "      border: none;\n",
              "      border-radius: 50%;\n",
              "      cursor: pointer;\n",
              "      display: none;\n",
              "      fill: #1967D2;\n",
              "      height: 32px;\n",
              "      padding: 0 0 0 0;\n",
              "      width: 32px;\n",
              "    }\n",
              "\n",
              "    .colab-df-convert:hover {\n",
              "      background-color: #E2EBFA;\n",
              "      box-shadow: 0px 1px 2px rgba(60, 64, 67, 0.3), 0px 1px 3px 1px rgba(60, 64, 67, 0.15);\n",
              "      fill: #174EA6;\n",
              "    }\n",
              "\n",
              "    .colab-df-buttons div {\n",
              "      margin-bottom: 4px;\n",
              "    }\n",
              "\n",
              "    [theme=dark] .colab-df-convert {\n",
              "      background-color: #3B4455;\n",
              "      fill: #D2E3FC;\n",
              "    }\n",
              "\n",
              "    [theme=dark] .colab-df-convert:hover {\n",
              "      background-color: #434B5C;\n",
              "      box-shadow: 0px 1px 3px 1px rgba(0, 0, 0, 0.15);\n",
              "      filter: drop-shadow(0px 1px 2px rgba(0, 0, 0, 0.3));\n",
              "      fill: #FFFFFF;\n",
              "    }\n",
              "  </style>\n",
              "\n",
              "    <script>\n",
              "      const buttonEl =\n",
              "        document.querySelector('#df-b280f273-cc04-41a1-96ac-752d731c353b button.colab-df-convert');\n",
              "      buttonEl.style.display =\n",
              "        google.colab.kernel.accessAllowed ? 'block' : 'none';\n",
              "\n",
              "      async function convertToInteractive(key) {\n",
              "        const element = document.querySelector('#df-b280f273-cc04-41a1-96ac-752d731c353b');\n",
              "        const dataTable =\n",
              "          await google.colab.kernel.invokeFunction('convertToInteractive',\n",
              "                                                    [key], {});\n",
              "        if (!dataTable) return;\n",
              "\n",
              "        const docLinkHtml = 'Like what you see? Visit the ' +\n",
              "          '<a target=\"_blank\" href=https://colab.research.google.com/notebooks/data_table.ipynb>data table notebook</a>'\n",
              "          + ' to learn more about interactive tables.';\n",
              "        element.innerHTML = '';\n",
              "        dataTable['output_type'] = 'display_data';\n",
              "        await google.colab.output.renderOutput(dataTable, element);\n",
              "        const docLink = document.createElement('div');\n",
              "        docLink.innerHTML = docLinkHtml;\n",
              "        element.appendChild(docLink);\n",
              "      }\n",
              "    </script>\n",
              "  </div>\n",
              "\n",
              "\n",
              "    <div id=\"df-e23a44ee-1747-4386-8e2a-0a03131be2dd\">\n",
              "      <button class=\"colab-df-quickchart\" onclick=\"quickchart('df-e23a44ee-1747-4386-8e2a-0a03131be2dd')\"\n",
              "                title=\"Suggest charts\"\n",
              "                style=\"display:none;\">\n",
              "\n",
              "<svg xmlns=\"http://www.w3.org/2000/svg\" height=\"24px\"viewBox=\"0 0 24 24\"\n",
              "     width=\"24px\">\n",
              "    <g>\n",
              "        <path d=\"M19 3H5c-1.1 0-2 .9-2 2v14c0 1.1.9 2 2 2h14c1.1 0 2-.9 2-2V5c0-1.1-.9-2-2-2zM9 17H7v-7h2v7zm4 0h-2V7h2v10zm4 0h-2v-4h2v4z\"/>\n",
              "    </g>\n",
              "</svg>\n",
              "      </button>\n",
              "\n",
              "<style>\n",
              "  .colab-df-quickchart {\n",
              "      --bg-color: #E8F0FE;\n",
              "      --fill-color: #1967D2;\n",
              "      --hover-bg-color: #E2EBFA;\n",
              "      --hover-fill-color: #174EA6;\n",
              "      --disabled-fill-color: #AAA;\n",
              "      --disabled-bg-color: #DDD;\n",
              "  }\n",
              "\n",
              "  [theme=dark] .colab-df-quickchart {\n",
              "      --bg-color: #3B4455;\n",
              "      --fill-color: #D2E3FC;\n",
              "      --hover-bg-color: #434B5C;\n",
              "      --hover-fill-color: #FFFFFF;\n",
              "      --disabled-bg-color: #3B4455;\n",
              "      --disabled-fill-color: #666;\n",
              "  }\n",
              "\n",
              "  .colab-df-quickchart {\n",
              "    background-color: var(--bg-color);\n",
              "    border: none;\n",
              "    border-radius: 50%;\n",
              "    cursor: pointer;\n",
              "    display: none;\n",
              "    fill: var(--fill-color);\n",
              "    height: 32px;\n",
              "    padding: 0;\n",
              "    width: 32px;\n",
              "  }\n",
              "\n",
              "  .colab-df-quickchart:hover {\n",
              "    background-color: var(--hover-bg-color);\n",
              "    box-shadow: 0 1px 2px rgba(60, 64, 67, 0.3), 0 1px 3px 1px rgba(60, 64, 67, 0.15);\n",
              "    fill: var(--button-hover-fill-color);\n",
              "  }\n",
              "\n",
              "  .colab-df-quickchart-complete:disabled,\n",
              "  .colab-df-quickchart-complete:disabled:hover {\n",
              "    background-color: var(--disabled-bg-color);\n",
              "    fill: var(--disabled-fill-color);\n",
              "    box-shadow: none;\n",
              "  }\n",
              "\n",
              "  .colab-df-spinner {\n",
              "    border: 2px solid var(--fill-color);\n",
              "    border-color: transparent;\n",
              "    border-bottom-color: var(--fill-color);\n",
              "    animation:\n",
              "      spin 1s steps(1) infinite;\n",
              "  }\n",
              "\n",
              "  @keyframes spin {\n",
              "    0% {\n",
              "      border-color: transparent;\n",
              "      border-bottom-color: var(--fill-color);\n",
              "      border-left-color: var(--fill-color);\n",
              "    }\n",
              "    20% {\n",
              "      border-color: transparent;\n",
              "      border-left-color: var(--fill-color);\n",
              "      border-top-color: var(--fill-color);\n",
              "    }\n",
              "    30% {\n",
              "      border-color: transparent;\n",
              "      border-left-color: var(--fill-color);\n",
              "      border-top-color: var(--fill-color);\n",
              "      border-right-color: var(--fill-color);\n",
              "    }\n",
              "    40% {\n",
              "      border-color: transparent;\n",
              "      border-right-color: var(--fill-color);\n",
              "      border-top-color: var(--fill-color);\n",
              "    }\n",
              "    60% {\n",
              "      border-color: transparent;\n",
              "      border-right-color: var(--fill-color);\n",
              "    }\n",
              "    80% {\n",
              "      border-color: transparent;\n",
              "      border-right-color: var(--fill-color);\n",
              "      border-bottom-color: var(--fill-color);\n",
              "    }\n",
              "    90% {\n",
              "      border-color: transparent;\n",
              "      border-bottom-color: var(--fill-color);\n",
              "    }\n",
              "  }\n",
              "</style>\n",
              "\n",
              "      <script>\n",
              "        async function quickchart(key) {\n",
              "          const quickchartButtonEl =\n",
              "            document.querySelector('#' + key + ' button');\n",
              "          quickchartButtonEl.disabled = true;  // To prevent multiple clicks.\n",
              "          quickchartButtonEl.classList.add('colab-df-spinner');\n",
              "          try {\n",
              "            const charts = await google.colab.kernel.invokeFunction(\n",
              "                'suggestCharts', [key], {});\n",
              "          } catch (error) {\n",
              "            console.error('Error during call to suggestCharts:', error);\n",
              "          }\n",
              "          quickchartButtonEl.classList.remove('colab-df-spinner');\n",
              "          quickchartButtonEl.classList.add('colab-df-quickchart-complete');\n",
              "        }\n",
              "        (() => {\n",
              "          let quickchartButtonEl =\n",
              "            document.querySelector('#df-e23a44ee-1747-4386-8e2a-0a03131be2dd button');\n",
              "          quickchartButtonEl.style.display =\n",
              "            google.colab.kernel.accessAllowed ? 'block' : 'none';\n",
              "        })();\n",
              "      </script>\n",
              "    </div>\n",
              "\n",
              "    </div>\n",
              "  </div>\n"
            ],
            "application/vnd.google.colaboratory.intrinsic+json": {
              "type": "dataframe",
              "variable_name": "dados"
            }
          },
          "metadata": {},
          "execution_count": 35
        }
      ]
    },
    {
      "cell_type": "code",
      "source": [
        "data = {\n",
        "    'Data' : pd.to_datetime(dados.columns),\n",
        "    'FCFE' : dados.iloc[3].values\n",
        "}"
      ],
      "metadata": {
        "colab": {
          "base_uri": "https://localhost:8080/"
        },
        "id": "2XA1rH0CPogQ",
        "outputId": "bcaa734d-bdc0-479d-c199-142ffd8ca9d3"
      },
      "execution_count": 42,
      "outputs": [
        {
          "output_type": "stream",
          "name": "stderr",
          "text": [
            "/tmp/ipython-input-893233058.py:2: UserWarning: Parsing dates in %d/%m/%Y format when dayfirst=False (the default) was specified. Pass `dayfirst=True` or specify a format to silence this warning.\n",
            "  'Data' : pd.to_datetime(dados.columns),\n"
          ]
        }
      ]
    },
    {
      "cell_type": "code",
      "source": [
        "data = pd.DataFrame(data)\n",
        "data.set_index('Data', inplace=True)\n",
        "\n",
        "print(\"Fluxos de Caixa Projetados (FCFE):\")\n",
        "print(data)\n",
        "print(\"-\" * 40)"
      ],
      "metadata": {
        "colab": {
          "base_uri": "https://localhost:8080/"
        },
        "id": "2BbE5oW_Rj5T",
        "outputId": "a450ab50-b308-4a72-eb6a-5ac29f8f5dbb"
      },
      "execution_count": 43,
      "outputs": [
        {
          "output_type": "stream",
          "name": "stdout",
          "text": [
            "Fluxos de Caixa Projetados (FCFE):\n",
            "              FCFE\n",
            "Data              \n",
            "2022-12-31   3.459\n",
            "2023-03-31    52.0\n",
            "2023-06-30   3.836\n",
            "2023-09-30   1.817\n",
            "2023-12-31  13.403\n",
            "2024-03-31   1.609\n",
            "2024-06-30   2.457\n",
            "2024-09-30   641.0\n",
            "2024-12-31  20.785\n",
            "2025-03-31     3.1\n",
            "2025-06-30   6.447\n",
            "2025-09-30   6.841\n",
            "2025-12-31   7.256\n",
            "2026-03-31   7.692\n",
            "2026-06-30   8.149\n",
            "2026-09-30   8.630\n",
            "2026-12-31   9.135\n",
            "2027-03-31   9.665\n",
            "2027-06-30  10.222\n",
            "2027-09-30  10.807\n",
            "2027-12-31  11.420\n",
            "2028-03-31  12.064\n",
            "2028-06-30  12.740\n",
            "2028-09-30  13.450\n",
            "----------------------------------------\n"
          ]
        }
      ]
    },
    {
      "cell_type": "code",
      "source": [
        "# 2. PREMISSAS DO VALUATION (ALTERE ESTAS VARIÁVEIS CONFORME SUA ANÁLISE)\n",
        "\n",
        "# Custo de Equity (Ke) - Taxa de desconto anual, é a taxa de retorno que os acionistas esperam.\n",
        "# Geralmente calculada via CAPM: Ke = Taxa Livre de Risco + Beta * (Prêmio de Risco de Mercado)\n",
        "# Exemplo para o Brasil (valores ilustrativos):\n",
        "taxa_livre_risco = 0.13  # Ex: Título público de longo prazo (NTN-B ou Selic Futura)\n",
        "beta = 1.1               # Beta da empresa (sensibilidade ao mercado - QuantBrasil)\n",
        "premio_risco_mercado = 0.0813 # Prêmio de risco para o mercado brasileiro (FGV)\n",
        "custo_equity_anual = taxa_livre_risco + beta * (premio_risco_mercado) # Fórmula do CAPM"
      ],
      "metadata": {
        "id": "TFZ3OJMT9v4w"
      },
      "execution_count": 5,
      "outputs": []
    },
    {
      "cell_type": "code",
      "source": [
        "# Taxa de Crescimento na Perpetuidade (g)\n",
        "# Taxa que se espera que o FCFE cresça para sempre. Deve ser conservadora.\n",
        "# Geralmente um pouco abaixo ou igual ao crescimento nominal do PIB de longo prazo.\n",
        "taxa_crescimento_perpetuo = 0.04\n",
        "\n",
        "print(\"Premissas do Valuation:\")\n",
        "print(f\"Custo de Equity Anual (Ke): {custo_equity_anual:.2%}\")\n",
        "print(f\"Taxa de Crescimento na Perpetuidade (g): {taxa_crescimento_perpetuo:.2%}\")\n",
        "print(\"-\" * 40)"
      ],
      "metadata": {
        "id": "2OQoSI1R9wEI",
        "colab": {
          "base_uri": "https://localhost:8080/"
        },
        "outputId": "685e1006-d633-4b57-fa1e-2760f840a530"
      },
      "execution_count": 6,
      "outputs": [
        {
          "output_type": "stream",
          "name": "stdout",
          "text": [
            "Premissas do Valuation:\n",
            "Custo de Equity Anual (Ke): 21.94%\n",
            "Taxa de Crescimento na Perpetuidade (g): 4.00%\n",
            "----------------------------------------\n"
          ]
        }
      ]
    },
    {
      "cell_type": "code",
      "source": [
        "# 3. CÁLCULOS DO DCF\n",
        "\n",
        "# Como seus dados são trimestrais, precisamos ajustar as taxas anuais para trimestrais.\n",
        "custo_equity_trimestral = (1 + custo_equity_anual)**(1/4) - 1\n",
        "taxa_crescimento_perpetuo_trimestral = (1 + taxa_crescimento_perpetuo)**(1/4) - 1\n",
        "\n",
        "print(\"Taxas Ajustadas para o Período (Trimestral):\")\n",
        "print(f\"Custo de Equity Trimestral: {custo_equity_trimestral:.4%}\")\n",
        "print(f\"Crescimento na Perpetuidade Trimestral: {taxa_crescimento_perpetuo_trimestral:.4%}\")\n",
        "print(\"-\" * 40)\n"
      ],
      "metadata": {
        "id": "dJfxmMdq9wL8",
        "colab": {
          "base_uri": "https://localhost:8080/"
        },
        "outputId": "962c19ea-cff2-4c31-fbe1-8884d6b291a5"
      },
      "execution_count": 7,
      "outputs": [
        {
          "output_type": "stream",
          "name": "stdout",
          "text": [
            "Taxas Ajustadas para o Período (Trimestral):\n",
            "Custo de Equity Trimestral: 5.0846%\n",
            "Crescimento na Perpetuidade Trimestral: 0.9853%\n",
            "----------------------------------------\n"
          ]
        }
      ]
    },
    {
      "cell_type": "code",
      "source": [
        "# 3.1. Calcular o Valor Terminal\n",
        "# Usamos o Modelo de Gordon Growth no último FCFE projetado.\n",
        "ultimo_fcfe = df['FCFE'].iloc[-1]\n",
        "ultimo_periodo = len(df)\n",
        "\n",
        "valor_terminal = (ultimo_fcfe * (1 + taxa_crescimento_perpetuo_trimestral)) / (custo_equity_trimestral - taxa_crescimento_perpetuo_trimestral)\n",
        "\n",
        "print(\"Cálculo do Valor Terminal:\")\n",
        "print(f\"Último FCFE projetado: {ultimo_fcfe:,.2f}\")\n",
        "print(f\"Valor Terminal no final do período de projeção: {valor_terminal:,.2f}\")\n",
        "print(\"-\" * 40)\n"
      ],
      "metadata": {
        "id": "ABadqAzD9wSx",
        "colab": {
          "base_uri": "https://localhost:8080/"
        },
        "outputId": "de690d44-22fb-4e0d-f90a-44e3fa83be1d"
      },
      "execution_count": 8,
      "outputs": [
        {
          "output_type": "stream",
          "name": "stdout",
          "text": [
            "Cálculo do Valor Terminal:\n",
            "Último FCFE projetado: 13,446.00\n",
            "Valor Terminal no final do período de projeção: 331,239.69\n",
            "----------------------------------------\n"
          ]
        }
      ]
    },
    {
      "cell_type": "code",
      "source": [
        "# 3.2. Trazer os fluxos de caixa e o valor terminal a valor presente (VP)\n",
        "df['Periodo'] = range(1, len(df) + 1)\n",
        "\n",
        "# Calcula o VP de cada FCFE do período de projeção\n",
        "df['VP_FCFE'] = df.apply(lambda row: row['FCFE'] / ((1 + custo_equity_trimestral)**row['Periodo']), axis=1)\n",
        "\n",
        "# Calcula o VP do Valor Terminal\n",
        "vp_valor_terminal = valor_terminal / ((1 + custo_equity_trimestral)**ultimo_periodo)\n",
        "\n",
        "\n",
        "print(\"Cálculo do Valor Presente (VP):\")\n",
        "print(df[['Periodo', 'FCFE', 'VP_FCFE']].to_string(formatters={'FCFE':'{:,.2f}'.format, 'VP_FCFE':'{:,.2f}'.format}))\n",
        "print(f\"\\nValor Presente do Valor Terminal: {vp_valor_terminal:,.2f}\")\n",
        "print(\"-\" * 40)\n"
      ],
      "metadata": {
        "id": "B66j3Mno9wZF",
        "colab": {
          "base_uri": "https://localhost:8080/"
        },
        "outputId": "e977df1e-7897-4e59-b70e-cdec03a3bf8c"
      },
      "execution_count": 9,
      "outputs": [
        {
          "output_type": "stream",
          "name": "stdout",
          "text": [
            "Cálculo do Valor Presente (VP):\n",
            "            Periodo      FCFE   VP_FCFE\n",
            "Data                                   \n",
            "2022-12-31        1  3,459.00  3,291.63\n",
            "2023-03-31        2     52.00     47.09\n",
            "2023-06-30        3  3,836.00  3,305.68\n",
            "2023-09-30        4  1,817.00  1,490.04\n",
            "2023-12-31        5 13,403.00 10,459.38\n",
            "2024-03-31        6  1,609.00  1,194.87\n",
            "2024-06-30        7  2,457.00  1,736.32\n",
            "2024-09-30        8    641.00    431.07\n",
            "2024-12-31        9 20,750.00 13,278.99\n",
            "2025-03-31       10  3,100.00  1,887.86\n",
            "2025-06-30       11  6,446.00  3,735.59\n",
            "2025-09-30       12  6,840.00  3,772.12\n",
            "2025-12-31       13  7,255.00  3,807.39\n",
            "2026-03-31       14  7,690.00  3,840.41\n",
            "2026-06-30       15  8,148.00  3,872.24\n",
            "2026-09-30       16  8,629.00  3,902.41\n",
            "2026-12-31       17  9,133.00  3,930.49\n",
            "2027-03-31       18  9,663.00  3,957.36\n",
            "2027-06-30       19 10,220.00  3,982.96\n",
            "2027-09-30       20 10,804.00  4,006.82\n",
            "2027-12-31       21 11,418.00  4,029.64\n",
            "2028-03-31       22 12,061.00  4,050.61\n",
            "2028-06-30       23 12,737.00  4,070.66\n",
            "2028-09-30       24 13,446.00  4,089.33\n",
            "\n",
            "Valor Presente do Valor Terminal: 100,739.81\n",
            "----------------------------------------\n"
          ]
        }
      ]
    },
    {
      "cell_type": "code",
      "source": [
        "# 3.3. Somar os valores presentes para obter o Equity Value\n",
        "soma_vp_fcfe = df['VP_FCFE'].sum()\n",
        "equity_value_total = (soma_vp_fcfe + vp_valor_terminal) * 1000000"
      ],
      "metadata": {
        "id": "AcvF261Y-ESr"
      },
      "execution_count": 12,
      "outputs": []
    },
    {
      "cell_type": "code",
      "source": [
        "# 4. RESULTADO FINAL\n",
        "print(\"================ RESULTADO DO VALUATION ================\")\n",
        "print(f\"Soma do VP dos FCFEs projetados: {soma_vp_fcfe:,.2f}\")\n",
        "print(f\"VP do Valor Terminal: {vp_valor_terminal:,.2f}\")\n",
        "print(f\"\\nValor Intrínseco Total do Patrimônio Líquido (Equity Value): R$ {equity_value_total:,.2f}\")\n",
        "print(\"========================================================\")"
      ],
      "metadata": {
        "id": "Wkic5CrT-Gjg",
        "colab": {
          "base_uri": "https://localhost:8080/"
        },
        "outputId": "99a31258-a439-478c-972a-f17be7ead92f"
      },
      "execution_count": 13,
      "outputs": [
        {
          "output_type": "stream",
          "name": "stdout",
          "text": [
            "================ RESULTADO DO VALUATION ================\n",
            "Soma do VP dos FCFEs projetados: 92,170.97\n",
            "VP do Valor Terminal: 100,739.81\n",
            "\n",
            "Valor Intrínseco Total do Patrimônio Líquido (Equity Value): R$ 192,910,782,727.41\n",
            "========================================================\n"
          ]
        }
      ]
    },
    {
      "cell_type": "code",
      "source": [
        "# Calcular o Preço Justo por Ação\n",
        "# Se você tiver o número de ações da empresa, pode calcular o valor por ação.\n",
        "numero_de_acoes = 10784548883\n",
        "preco_justo_por_acao = equity_value_total / numero_de_acoes\n",
        "print(f\"\\nPreço Justo por Ação (Estimado): R$ {preco_justo_por_acao:,.2f}\")"
      ],
      "metadata": {
        "colab": {
          "base_uri": "https://localhost:8080/"
        },
        "id": "iV1fOsLrFrn9",
        "outputId": "f1b80ca6-dc90-4ce7-b782-930d865b5a3a"
      },
      "execution_count": 14,
      "outputs": [
        {
          "output_type": "stream",
          "name": "stdout",
          "text": [
            "\n",
            "Preço Justo por Ação (Estimado): R$ 17.89\n"
          ]
        }
      ]
    },
    {
      "cell_type": "code",
      "source": [
        "# Comparação do preço atual com o preço justo\n",
        "# Baixando o preço atual do Yahoo Finance\n",
        "import yfinance as yf\n",
        "ticker = \"ITUB4.SA\"\n",
        "mercado_ticker = \"^BVSP\"\n",
        "\n",
        "preços = yf.download(ticker, period=\"1d\")['Close']"
      ],
      "metadata": {
        "colab": {
          "base_uri": "https://localhost:8080/"
        },
        "id": "taliAD7yGacG",
        "outputId": "d37d3fc7-b1b9-43f1-919f-f13ed6b13bd0"
      },
      "execution_count": 19,
      "outputs": [
        {
          "output_type": "stream",
          "name": "stderr",
          "text": [
            "/tmp/ipython-input-3484949794.py:5: FutureWarning: YF.download() has changed argument auto_adjust default to True\n",
            "  preços = yf.download(ticker, period=\"1d\")['Close']\n",
            "[*********************100%***********************]  1 of 1 completed\n"
          ]
        }
      ]
    },
    {
      "cell_type": "code",
      "source": [
        "print(f\"Preço Atual de Mercado: R$ {preços.values[0].item():.2f}\")"
      ],
      "metadata": {
        "colab": {
          "base_uri": "https://localhost:8080/"
        },
        "id": "6YFEY2EoGbU7",
        "outputId": "f03cc995-0520-4075-ab1b-e62ea0d9e405"
      },
      "execution_count": 20,
      "outputs": [
        {
          "output_type": "stream",
          "name": "stdout",
          "text": [
            "Preço Atual de Mercado: R$ 37.76\n"
          ]
        }
      ]
    },
    {
      "cell_type": "code",
      "source": [
        "#Comparanado\n",
        "PVP = preços.values[0].item() / preco_justo_por_acao\n",
        "\n",
        "\n",
        "print(f\"\\nPreço Justo por Ação (Estimado): R$ {preco_justo_por_acao:,.2f}\")\n",
        "print(f\"Preço Atual de Mercado: R$ {preços.values[0].item():.2f}\")\n",
        "print(f\"P/VP: {PVP:.2f}\")"
      ],
      "metadata": {
        "colab": {
          "base_uri": "https://localhost:8080/"
        },
        "id": "AusRTMeuGn8H",
        "outputId": "6f7c7869-11ab-4d9f-8355-7789e43c111a"
      },
      "execution_count": 25,
      "outputs": [
        {
          "output_type": "stream",
          "name": "stdout",
          "text": [
            "\n",
            "Preço Justo por Ação (Estimado): R$ 17.89\n",
            "Preço Atual de Mercado: R$ 37.76\n",
            "P/VP: 2.11\n"
          ]
        }
      ]
    }
  ]
}